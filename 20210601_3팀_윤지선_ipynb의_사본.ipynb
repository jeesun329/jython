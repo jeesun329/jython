{
  "nbformat": 4,
  "nbformat_minor": 0,
  "metadata": {
    "colab": {
      "name": "20210601_3팀_윤지선.ipynb의 사본",
      "provenance": []
    },
    "kernelspec": {
      "name": "python3",
      "display_name": "Python 3"
    },
    "language_info": {
      "name": "python"
    }
  },
  "cells": [
    {
      "cell_type": "code",
      "metadata": {
        "id": "kh-3RWkuxK3n"
      },
      "source": [
        "#for, 주어진 자료를 순회할때 사용하는 반복구조, 반복의 범위가 미리 정해짐\n",
        "#시퀀스(리스트,튜플),문자열,범위로 다 for문 돌릴 수 있다.시퀀스 값들이 제어변수 i에 하나씩 할당됨\n"
      ],
      "execution_count": null,
      "outputs": []
    },
    {
      "cell_type": "code",
      "metadata": {
        "colab": {
          "base_uri": "https://localhost:8080/"
        },
        "id": "tnW2kAbgzy_r",
        "outputId": "30d09cfc-3e98-43b4-cc60-ddae5efe2b78"
      },
      "source": [
        "for i in [1,2,3,4,5,5,6,9]:\n",
        "    print(i)"
      ],
      "execution_count": null,
      "outputs": [
        {
          "output_type": "stream",
          "text": [
            "1\n",
            "2\n",
            "3\n",
            "4\n",
            "5\n",
            "5\n",
            "6\n",
            "9\n"
          ],
          "name": "stdout"
        }
      ]
    },
    {
      "cell_type": "code",
      "metadata": {
        "colab": {
          "base_uri": "https://localhost:8080/"
        },
        "id": "Cw54PHvBz5b5",
        "outputId": "2f3f25be-1599-4fc4-edc4-677cbcb3d492"
      },
      "source": [
        "for i in 'Jeesun':\n",
        "    print(i)"
      ],
      "execution_count": null,
      "outputs": [
        {
          "output_type": "stream",
          "text": [
            "J\n",
            "e\n",
            "e\n",
            "s\n",
            "u\n",
            "n\n"
          ],
          "name": "stdout"
        }
      ]
    },
    {
      "cell_type": "code",
      "metadata": {
        "colab": {
          "base_uri": "https://localhost:8080/"
        },
        "id": "IdmrWdLiz-pd",
        "outputId": "fb032e44-7224-4b9a-b2a1-6bb73ec74f7c"
      },
      "source": [
        "for i in range(5):\n",
        "    print(i)"
      ],
      "execution_count": null,
      "outputs": [
        {
          "output_type": "stream",
          "text": [
            "0\n",
            "1\n",
            "2\n",
            "3\n",
            "4\n"
          ],
          "name": "stdout"
        }
      ]
    },
    {
      "cell_type": "code",
      "metadata": {
        "colab": {
          "base_uri": "https://localhost:8080/"
        },
        "id": "I97WX1W20A9J",
        "outputId": "f65b9a05-67f0-476a-c68c-6fc2490d84a8"
      },
      "source": [
        "#range함수,일정한 범위의 정수를 생성한다.,시작값은 생략 가능,끝값은 불가, 중간값가능\n",
        "for i in range(5):\n",
        "    print(i,end= \" \")"
      ],
      "execution_count": null,
      "outputs": [
        {
          "output_type": "stream",
          "text": [
            "0 1 2 3 4 "
          ],
          "name": "stdout"
        }
      ]
    },
    {
      "cell_type": "code",
      "metadata": {
        "colab": {
          "base_uri": "https://localhost:8080/"
        },
        "id": "ytLCFpnP0DwA",
        "outputId": "6b2b99e3-0a20-4a8a-eb0b-0eec768a8b3b"
      },
      "source": [
        "for i in range(0,5):\n",
        "    print(i,end= \" \")"
      ],
      "execution_count": null,
      "outputs": [
        {
          "output_type": "stream",
          "text": [
            "0 1 2 3 4 "
          ],
          "name": "stdout"
        }
      ]
    },
    {
      "cell_type": "code",
      "metadata": {
        "colab": {
          "base_uri": "https://localhost:8080/"
        },
        "id": "_M76--ZG1D1Q",
        "outputId": "5e06c5e1-ffb2-42d2-b58a-0f09ec464026"
      },
      "source": [
        "for i in range(0,5,3):\n",
        "    print(i,end= \" \")"
      ],
      "execution_count": null,
      "outputs": [
        {
          "output_type": "stream",
          "text": [
            "0 3 "
          ],
          "name": "stdout"
        }
      ]
    },
    {
      "cell_type": "code",
      "metadata": {
        "colab": {
          "base_uri": "https://localhost:8080/"
        },
        "id": "5BLWN5JL1H41",
        "outputId": "da40135c-77be-49c6-f678-4058b5018c73"
      },
      "source": [
        "for i in range(1,10,2):\n",
        "    print(i,end='\\t')"
      ],
      "execution_count": null,
      "outputs": [
        {
          "output_type": "stream",
          "text": [
            "1\t3\t5\t7\t9\t"
          ],
          "name": "stdout"
        }
      ]
    },
    {
      "cell_type": "code",
      "metadata": {
        "id": "pKn4IbmY1QIr"
      },
      "source": [
        "#range함수-역순 : 오류 시작값은 끝값보다 앞에 위치하여야 한다\n",
        "for i in range(1,10,-1):\n",
        "    print(i,end= \" \")"
      ],
      "execution_count": null,
      "outputs": []
    },
    {
      "cell_type": "code",
      "metadata": {
        "colab": {
          "base_uri": "https://localhost:8080/"
        },
        "id": "GJlK6DBm1zNL",
        "outputId": "622a3d62-bffe-4f3d-d060-045094279c69"
      },
      "source": [
        "#range함수-역순 : 오류\n",
        "for i in range(10,0,-1):\n",
        "    print(i,end= \" \")"
      ],
      "execution_count": null,
      "outputs": [
        {
          "output_type": "stream",
          "text": [
            "10 9 8 7 6 5 4 3 2 1 "
          ],
          "name": "stdout"
        }
      ]
    },
    {
      "cell_type": "code",
      "metadata": {
        "colab": {
          "base_uri": "https://localhost:8080/"
        },
        "id": "A9MeLCGj13yq",
        "outputId": "56d3c054-38df-4d6d-b0b3-b227ae3eec73"
      },
      "source": [
        "for i in range(3):\n",
        "    print('Hello World!!')"
      ],
      "execution_count": null,
      "outputs": [
        {
          "output_type": "stream",
          "text": [
            "Hello World!!\n",
            "Hello World!!\n",
            "Hello World!!\n"
          ],
          "name": "stdout"
        }
      ]
    },
    {
      "cell_type": "code",
      "metadata": {
        "colab": {
          "base_uri": "https://localhost:8080/"
        },
        "id": "1fleWQyr17M9",
        "outputId": "baadb4e1-2732-4509-e9ca-75633ff35977"
      },
      "source": [
        "#while문은 조건문의 결과가 true일때까지 반복\n",
        "i=1#루프의 조건식에 사용되는 변수는 루프에 들어가기 전에 초기화 되어야 한다. \n",
        "while i <= 5:\n",
        "    print(i,end= ' ')\n",
        "    i = i + 1#루프의 조건식에 사용되는 변수 값은 루프 내에서 변경되어야 한다. \n",
        "      "
      ],
      "execution_count": null,
      "outputs": [
        {
          "output_type": "stream",
          "text": [
            "1 2 3 4 5 "
          ],
          "name": "stdout"
        }
      ]
    },
    {
      "cell_type": "code",
      "metadata": {
        "colab": {
          "base_uri": "https://localhost:8080/"
        },
        "id": "cZnnKti84olN",
        "outputId": "1e77c929-6869-4ed1-cd36-862e2ae3bba4"
      },
      "source": [
        "i=0\n",
        "while i <= 5:\n",
        "    print(i,end= ' ')\n",
        "    i = i + 1\n",
        "      "
      ],
      "execution_count": null,
      "outputs": [
        {
          "output_type": "stream",
          "text": [
            "0 1 2 3 4 5 "
          ],
          "name": "stdout"
        }
      ]
    },
    {
      "cell_type": "code",
      "metadata": {
        "colab": {
          "base_uri": "https://localhost:8080/"
        },
        "id": "eXdRpAg24dhr",
        "outputId": "4f1fa924-1763-4742-a8bc-6476c3166216"
      },
      "source": [
        "i=1\n",
        "while i <= 5:\n",
        "    i = i + 1\n",
        "    print(i,end= ' ')"
      ],
      "execution_count": null,
      "outputs": [
        {
          "output_type": "stream",
          "text": [
            "2 3 4 5 6 "
          ],
          "name": "stdout"
        }
      ]
    },
    {
      "cell_type": "code",
      "metadata": {
        "colab": {
          "base_uri": "https://localhost:8080/"
        },
        "id": "GH1njhRd4jvQ",
        "outputId": "7991fd57-8c06-41e6-8afa-fd59ea4397b6"
      },
      "source": [
        "i=0\n",
        "while i <= 5:\n",
        "    i = i + 1\n",
        "    print(i,end= ' ')"
      ],
      "execution_count": null,
      "outputs": [
        {
          "output_type": "stream",
          "text": [
            "1 2 3 4 5 6 "
          ],
          "name": "stdout"
        }
      ]
    },
    {
      "cell_type": "code",
      "metadata": {
        "colab": {
          "base_uri": "https://localhost:8080/"
        },
        "id": "a_Z4dQK-3hlv",
        "outputId": "6814e007-f2cc-4e69-de71-8d684483b2da"
      },
      "source": [
        "for i in range(1,6):\n",
        "    print(i,end=' ')"
      ],
      "execution_count": null,
      "outputs": [
        {
          "output_type": "stream",
          "text": [
            "1 2 3 4 5 "
          ],
          "name": "stdout"
        }
      ]
    },
    {
      "cell_type": "code",
      "metadata": {
        "id": "m60AL4GA3m3A"
      },
      "source": [
        "#무한루프 \n",
        "#i = 1 \n",
        "#while i <= 5: # i값이 계속 1이므로 무한루프\n",
        " #   print(i)\n",
        "#print('end')\n"
      ],
      "execution_count": null,
      "outputs": []
    },
    {
      "cell_type": "code",
      "metadata": {
        "colab": {
          "base_uri": "https://localhost:8080/"
        },
        "id": "uYrowrnO5tmV",
        "outputId": "f0f74085-b99b-46a3-c10b-1204202a7d77"
      },
      "source": [
        "#q를 입력할때까지 반복하여 이름 입력받기\n",
        "name=' '#while문에 사용되는 변수는 초기값을 줘야한다.\n",
        "while name != 'q':\n",
        "    name = input('이름을 입력하세요')\n",
        "    print(name)\n"
      ],
      "execution_count": null,
      "outputs": [
        {
          "output_type": "stream",
          "text": [
            "이름을 입력하세요지선이\n",
            "지선이\n",
            "이름을 입력하세요충원이\n",
            "충원이\n",
            "이름을 입력하세요준이\n",
            "준이\n",
            "이름을 입력하세요준서\n",
            "준서\n",
            "이름을 입력하세요진봉이\n",
            "진봉이\n",
            "이름을 입력하세요ㅂㅂ\n",
            "ㅂㅂ\n",
            "이름을 입력하세요qq\n",
            "qq\n",
            "이름을 입력하세요q\n",
            "q\n"
          ],
          "name": "stdout"
        }
      ]
    },
    {
      "cell_type": "code",
      "metadata": {
        "colab": {
          "base_uri": "https://localhost:8080/"
        },
        "id": "EQM3-OEj922e",
        "outputId": "fa33b7ea-4346-455e-83e0-80161810a037"
      },
      "source": [
        "name = ' '\n",
        "while name != 'q':\n",
        "    name = input('이름을 입력하세요:')\n",
        "    if name != 'q':\n",
        "        print(name)"
      ],
      "execution_count": null,
      "outputs": [
        {
          "output_type": "stream",
          "text": [
            "이름을 입력하세요:지선\n",
            "지선\n",
            "이름을 입력하세요:q\n"
          ],
          "name": "stdout"
        }
      ]
    },
    {
      "cell_type": "code",
      "metadata": {
        "colab": {
          "base_uri": "https://localhost:8080/"
        },
        "id": "OkMnY1iF-X8o",
        "outputId": "9f8f37ab-40f9-498e-e98c-fe17daa86b43"
      },
      "source": [
        "#5개의 정수를 입력받아 합계 구하기\n",
        "sum = 0 \n",
        "for i in range(5):\n",
        "    num = int(input('정수입력:'))\n",
        "    sum += num\n",
        "print('합계출력:',sum)"
      ],
      "execution_count": null,
      "outputs": [
        {
          "output_type": "stream",
          "text": [
            "정수입력:1\n",
            "정수입력:4\n",
            "정수입력:5\n",
            "정수입력:6\n",
            "정수입력:2\n",
            "합계출력: 18\n"
          ],
          "name": "stdout"
        }
      ]
    },
    {
      "cell_type": "code",
      "metadata": {
        "colab": {
          "base_uri": "https://localhost:8080/"
        },
        "id": "vNIdULpwAlKX",
        "outputId": "b4e9764a-da7f-4543-f360-15eef44e4a92"
      },
      "source": [
        "sum1 = 0\n",
        "i = 1\n",
        "while i <= 5 :\n",
        "    num = int(input('정수입력:'))\n",
        "    i = i +1\n",
        "    sum1 += num\n",
        "print(sum1,end=' ')"
      ],
      "execution_count": null,
      "outputs": [
        {
          "output_type": "stream",
          "text": [
            "정수입력:1\n",
            "정수입력:2\n",
            "정수입력:3\n",
            "정수입력:4\n",
            "정수입력:5\n",
            "15 "
          ],
          "name": "stdout"
        }
      ]
    },
    {
      "cell_type": "code",
      "metadata": {
        "colab": {
          "base_uri": "https://localhost:8080/"
        },
        "id": "ryB7LZcFCR7o",
        "outputId": "2e87bd56-7eef-4731-b13d-555ace9979b7"
      },
      "source": [
        "5#n개의 정수를 입력받아 합계 구하기\n",
        "#사용자로부터 n을 입력받고, n개의 정수를 입력받아 합계를 구하여 출력하는 프로그램을 작성하라!!!\n",
        "n = int(input('몇 개의 숫자를 더할까요?:'))\n",
        "sum = 0 \n",
        "for i in range(n):\n",
        "    num = int(input('정수입력:'))\n",
        "    sum += num\n",
        "print('합계출력:',sum)"
      ],
      "execution_count": null,
      "outputs": [
        {
          "output_type": "stream",
          "text": [
            "몇 개의 숫자를 더할까요?:2\n",
            "정수입력:3\n",
            "정수입력:4\n",
            "합계출력: 7\n"
          ],
          "name": "stdout"
        }
      ]
    },
    {
      "cell_type": "code",
      "metadata": {
        "colab": {
          "base_uri": "https://localhost:8080/"
        },
        "id": "7G4J8yojAfiU",
        "outputId": "09b18676-a6ac-49bc-f522-bc627797e461"
      },
      "source": [
        "n = int(input('몇 개의 숫자를 더할까요?:'))\n",
        "sum = 0 \n",
        "for i in range(n):\n",
        "    num = int(input('정수입력:'))\n",
        "    sum += num\n",
        "    print('합계출력:',sum)"
      ],
      "execution_count": null,
      "outputs": [
        {
          "output_type": "stream",
          "text": [
            "몇 개의 숫자를 더할까요?:2\n",
            "정수입력:2\n",
            "합계출력: 2\n",
            "정수입력:3\n",
            "합계출력: 5\n"
          ],
          "name": "stdout"
        }
      ]
    },
    {
      "cell_type": "code",
      "metadata": {
        "colab": {
          "base_uri": "https://localhost:8080/"
        },
        "id": "NAu7hCr_DIXj",
        "outputId": "87433188-edbc-4c98-b8e7-0ac6d36ee8e5"
      },
      "source": [
        "#사용자로부터 n을 입력받고 n개의 정수를 입력받아 짝수의 합계를 구하여 출력하는 프로그램 작성\n",
        "n = int(input('몇개의 숫자를 더할까요?:'))\n",
        "sum1=0\n",
        "for i in range (n):\n",
        "    num = int(input('정수입력:'))\n",
        "    if num % 2 == 0:\n",
        "        sum1 += num\n",
        "print('합계출력:',sum1)\n"
      ],
      "execution_count": null,
      "outputs": [
        {
          "output_type": "stream",
          "text": [
            "몇개의 숫자를 더할까요?:2\n",
            "정수입력:1\n",
            "정수입력:3\n",
            "합계출력: 0\n"
          ],
          "name": "stdout"
        }
      ]
    },
    {
      "cell_type": "code",
      "metadata": {
        "colab": {
          "base_uri": "https://localhost:8080/"
        },
        "id": "CJxxu3Q8FBqR",
        "outputId": "8c17236f-f0ba-4402-8a1a-65b84eacc5c0"
      },
      "source": [
        "#홀수일경우\n",
        "n = int(input('몇개의 숫자를 더할까요?:'))\n",
        "sum1=0\n",
        "for i in range (n):\n",
        "    num = int(input('정수입력:'))\n",
        "    if num % 2 == 1:\n",
        "        sum1 += num\n",
        "print('합계출력:',sum1)"
      ],
      "execution_count": null,
      "outputs": [
        {
          "output_type": "stream",
          "text": [
            "몇개의 숫자를 더할까요?:3\n",
            "정수입력:2\n",
            "정수입력:3\n",
            "정수입력:6\n",
            "합계출력: 3\n"
          ],
          "name": "stdout"
        }
      ]
    },
    {
      "cell_type": "code",
      "metadata": {
        "colab": {
          "base_uri": "https://localhost:8080/"
        },
        "id": "vVLclpQ_FN6Q",
        "outputId": "92f4f61a-918c-466d-9abc-85f8a069c6ce"
      },
      "source": [
        "#0이 입력될 때 까지 사용자가 숫자를 입력하고, 입력이 끝나면 입력된 숫자들의 합이 출력되는 프로그램\n",
        "sum = 0 \n",
        "num = int(input('숫자:'))\n",
        "while num != 0 :\n",
        "    sum += num\n",
        "    num = int(input('숫자: '))\n",
        "print('합계:',sum)"
      ],
      "execution_count": null,
      "outputs": [
        {
          "output_type": "stream",
          "text": [
            "숫자1\n",
            "숫자: 3\n",
            "숫자: 4\n",
            "숫자: 2\n",
            "숫자: 0\n",
            "합계: 10\n"
          ],
          "name": "stdout"
        }
      ]
    },
    {
      "cell_type": "code",
      "metadata": {
        "colab": {
          "base_uri": "https://localhost:8080/"
        },
        "id": "MBuZ2Q_VGB6X",
        "outputId": "bed3bb09-55c9-4ef5-b3ba-296ae514dea7"
      },
      "source": [
        "#input을 하나만 작성하려면?\n",
        "sum = 0\n",
        "num = ' '\n",
        "while num != 0 :     \n",
        "    num = int(input('숫자: '))\n",
        "    sum += num\n",
        "print('합계:',sum)\n"
      ],
      "execution_count": null,
      "outputs": [
        {
          "output_type": "stream",
          "text": [
            "숫자: 10\n",
            "숫자: 20\n",
            "숫자: 0\n",
            "합계: 30\n"
          ],
          "name": "stdout"
        }
      ]
    },
    {
      "cell_type": "code",
      "metadata": {
        "colab": {
          "base_uri": "https://localhost:8080/"
        },
        "id": "lzGZr917HiKa",
        "outputId": "a46f626d-4850-4691-8530-90df2c1bda8c"
      },
      "source": [
        "sum = 0\n",
        "chk = 1\n",
        "while num!=0 or chk == 1:   \n",
        "    num = int(input('숫자: '))\n",
        "    sum+=num\n",
        "    if chk == 1:\n",
        "        chk = 1 +chk\n",
        "print('합계:', sum1)"
      ],
      "execution_count": null,
      "outputs": [
        {
          "output_type": "stream",
          "text": [
            "숫자: 2\n",
            "숫자: 3\n",
            "숫자: 0\n",
            "합계: 3\n"
          ],
          "name": "stdout"
        }
      ]
    },
    {
      "cell_type": "code",
      "metadata": {
        "colab": {
          "base_uri": "https://localhost:8080/"
        },
        "id": "CDoukkeqKjd_",
        "outputId": "7410488e-509b-4329-930a-0488c86d8747"
      },
      "source": [
        "#숫자 n을 입력받아 1~n까지의 합을 구하여 출력하는 프로그램 작성하세요\n",
        "sum = 0\n",
        "n = int(input('1부터 몇까지 더할까용?:'))\n",
        "for i in range(1,n+1):\n",
        "    sum += i\n",
        "    print(i)\n",
        "print(f'1부터 {n}까지 더한 합계는?:', sum )"
      ],
      "execution_count": null,
      "outputs": [
        {
          "output_type": "stream",
          "text": [
            "1부터 몇까지 더할까용?:3\n",
            "1\n",
            "2\n",
            "3\n",
            "1부터 3까지 더한 합계는?: 6\n"
          ],
          "name": "stdout"
        }
      ]
    },
    {
      "cell_type": "code",
      "metadata": {
        "colab": {
          "base_uri": "https://localhost:8080/"
        },
        "id": "vRoHR43CMauO",
        "outputId": "acab35bc-aba6-4dad-8a53-3df516ed6f56"
      },
      "source": [
        "sum = 0\n",
        "n = int(input('1부터 몇까지 더할까용?:'))\n",
        "i=1\n",
        "while i <= n:\n",
        "    sum += i\n",
        "    i += 1\n",
        "print(f'1부터 {n}까지 더한 합계는?:', sum )"
      ],
      "execution_count": null,
      "outputs": [
        {
          "output_type": "stream",
          "text": [
            "1부터 몇까지 더할까용?:3\n",
            "1부터 3까지 더한 합계는?: 6\n"
          ],
          "name": "stdout"
        }
      ]
    },
    {
      "cell_type": "code",
      "metadata": {
        "colab": {
          "base_uri": "https://localhost:8080/"
        },
        "id": "aTxNBp9cOu-x",
        "outputId": "4afa8a8a-f1e3-4252-918a-c925cdaff400"
      },
      "source": [
        "#숫자 n1,n2를 입력받아 n1~n2까지의 합을 구하여 출력하는 파이썬 프로그램 작성하라\n",
        "sum1= 0\n",
        "n1 = int(input('몇부터 더할까요?:'))\n",
        "n2 = int(input('몇까지 더할까요?:'))\n",
        "for i in range(n1,n2+1):\n",
        "    sum1 += i\n",
        "    print(i)\n",
        "print(f'{n1}부터 {n2}까지 더한 합계는:',sum1)"
      ],
      "execution_count": null,
      "outputs": [
        {
          "output_type": "stream",
          "text": [
            "몇부터 더할까요?:1\n",
            "몇까지 더할까요?:3\n",
            "1\n",
            "2\n",
            "3\n",
            "1부터 3까지 더한 합계는: 6\n"
          ],
          "name": "stdout"
        }
      ]
    },
    {
      "cell_type": "code",
      "metadata": {
        "colab": {
          "base_uri": "https://localhost:8080/"
        },
        "id": "EBVrduxgbrlX",
        "outputId": "4a2ecf34-540f-4f8b-98d2-60047bea449d"
      },
      "source": [
        "#임의의 개수 숫자의 평균 구하기\n",
        "#사용자에게 n개의 숫자를 입력받아 그 숫자들의 평균을 계산해서 출력하는 프로그램 작성하라\n",
        "#프로그램 실행 초반에 사용자가 입력할 숫자의 개수를 입력 받는다.\n",
        "n = int(input('입력받을 정수의 개수:'))\n",
        "sum1 = 0\n",
        "for i in range(n):\n",
        "    num = int(input('정수:'))\n",
        "    sum1 += n\n",
        "if n == 0:\n",
        "    print('0개의 정수를 입력하셨습니다.')\n",
        "else:\n",
        "    print('평균:', sum1/n)\n"
      ],
      "execution_count": null,
      "outputs": [
        {
          "output_type": "stream",
          "text": [
            "입력받을 정수의 개수:3\n",
            "정수:1\n",
            "평균: 1.0\n",
            "정수:0\n",
            "평균: 2.0\n",
            "정수:1\n",
            "평균: 3.0\n"
          ],
          "name": "stdout"
        }
      ]
    },
    {
      "cell_type": "code",
      "metadata": {
        "colab": {
          "base_uri": "https://localhost:8080/"
        },
        "id": "3HD8LnyqdRiE",
        "outputId": "e794dc85-a9f5-4b34-d2ee-b0c5bcb073bd"
      },
      "source": [
        "#정수를 N을 입력받아 n!을 계산하는 프로그램을 작성하라\n",
        "#n! = n *(n-1)*(n-2)*...*1\n",
        "\n",
        "n = int(input('몇 팩토리얼?:'))\n",
        "sum1= 1\n",
        "factorial = 1\n",
        "for i in range(n,0,-1):\n",
        "    sum1 *= i\n",
        "    # print(i,sum1)\n",
        "print(f'{n}! = {sum1}')\n",
        "\n",
        "\n"
      ],
      "execution_count": null,
      "outputs": [
        {
          "output_type": "stream",
          "text": [
            "몇 팩토리얼?:5\n",
            "5 5\n",
            "4 20\n",
            "3 60\n",
            "2 120\n",
            "1 120\n",
            "5! = 120\n"
          ],
          "name": "stdout"
        }
      ]
    },
    {
      "cell_type": "code",
      "metadata": {
        "colab": {
          "base_uri": "https://localhost:8080/"
        },
        "id": "WHgDD-A2gofC",
        "outputId": "1441c066-f5d9-4ea1-e89d-50419ab494fd"
      },
      "source": [
        "#구구단\n",
        "n = int(input('구구단 몇단을 출력할까요?:'))\n",
        "for i in range(1,10):\n",
        "    print(f'{n} x {i} = {n*i}')"
      ],
      "execution_count": null,
      "outputs": [
        {
          "output_type": "stream",
          "text": [
            "구구단 몇단을 출력할까요?:5\n",
            "5 x 1 = 5\n",
            "5 x 2 = 10\n",
            "5 x 3 = 15\n",
            "5 x 4 = 20\n",
            "5 x 5 = 25\n",
            "5 x 6 = 30\n",
            "5 x 7 = 35\n",
            "5 x 8 = 40\n",
            "5 x 9 = 45\n"
          ],
          "name": "stdout"
        }
      ]
    },
    {
      "cell_type": "code",
      "metadata": {
        "colab": {
          "base_uri": "https://localhost:8080/"
        },
        "id": "ZksV8QO3ilcX",
        "outputId": "e2a2021c-d265-47da-9dc9-f0d9019636b5"
      },
      "source": [
        "for i in range (3):#내부루프와 외부루프는 동일한 제어변수를 사용해선 안된다.\n",
        "    for j in range(5):\n",
        "        print(i,j,)#내부for문을 외부 for 문의 시퀀스 만큼 반복한다."
      ],
      "execution_count": null,
      "outputs": [
        {
          "output_type": "stream",
          "text": [
            "0 0\n",
            "0 1\n",
            "0 2\n",
            "0 3\n",
            "0 4\n",
            "1 0\n",
            "1 1\n",
            "1 2\n",
            "1 3\n",
            "1 4\n",
            "2 0\n",
            "2 1\n",
            "2 2\n",
            "2 3\n",
            "2 4\n"
          ],
          "name": "stdout"
        }
      ]
    },
    {
      "cell_type": "code",
      "metadata": {
        "colab": {
          "base_uri": "https://localhost:8080/"
        },
        "id": "Efq6uP2KmHXi",
        "outputId": "4c9a0641-163c-4211-f5c7-9c763467a2da"
      },
      "source": [
        "for i in range (1,7,2):#내부루프와 외부루프는 동일한 제어변수를 사용해선 안된다.\n",
        "    for j in range(1,5,2):\n",
        "        print(i,j,)"
      ],
      "execution_count": null,
      "outputs": [
        {
          "output_type": "stream",
          "text": [
            "1 1\n",
            "1 3\n",
            "3 1\n",
            "3 3\n",
            "5 1\n",
            "5 3\n"
          ],
          "name": "stdout"
        }
      ]
    },
    {
      "cell_type": "code",
      "metadata": {
        "colab": {
          "base_uri": "https://localhost:8080/"
        },
        "id": "qPLGGcmhnAcN",
        "outputId": "2b5dbac0-070a-49d8-a916-c48f0edd650e"
      },
      "source": [
        "#구구단 가로출력\n",
        "for i in range(2,10):\n",
        "    for j in range(1,10):\n",
        "        print(f'{i} * {j} = {i * j}',end='\\t')\n",
        "    print()"
      ],
      "execution_count": null,
      "outputs": [
        {
          "output_type": "stream",
          "text": [
            "2 * 1 = 2\t2 * 2 = 4\t2 * 3 = 6\t2 * 4 = 8\t2 * 5 = 10\t2 * 6 = 12\t2 * 7 = 14\t2 * 8 = 16\t2 * 9 = 18\t\n",
            "3 * 1 = 3\t3 * 2 = 6\t3 * 3 = 9\t3 * 4 = 12\t3 * 5 = 15\t3 * 6 = 18\t3 * 7 = 21\t3 * 8 = 24\t3 * 9 = 27\t\n",
            "4 * 1 = 4\t4 * 2 = 8\t4 * 3 = 12\t4 * 4 = 16\t4 * 5 = 20\t4 * 6 = 24\t4 * 7 = 28\t4 * 8 = 32\t4 * 9 = 36\t\n",
            "5 * 1 = 5\t5 * 2 = 10\t5 * 3 = 15\t5 * 4 = 20\t5 * 5 = 25\t5 * 6 = 30\t5 * 7 = 35\t5 * 8 = 40\t5 * 9 = 45\t\n",
            "6 * 1 = 6\t6 * 2 = 12\t6 * 3 = 18\t6 * 4 = 24\t6 * 5 = 30\t6 * 6 = 36\t6 * 7 = 42\t6 * 8 = 48\t6 * 9 = 54\t\n",
            "7 * 1 = 7\t7 * 2 = 14\t7 * 3 = 21\t7 * 4 = 28\t7 * 5 = 35\t7 * 6 = 42\t7 * 7 = 49\t7 * 8 = 56\t7 * 9 = 63\t\n",
            "8 * 1 = 8\t8 * 2 = 16\t8 * 3 = 24\t8 * 4 = 32\t8 * 5 = 40\t8 * 6 = 48\t8 * 7 = 56\t8 * 8 = 64\t8 * 9 = 72\t\n",
            "9 * 1 = 9\t9 * 2 = 18\t9 * 3 = 27\t9 * 4 = 36\t9 * 5 = 45\t9 * 6 = 54\t9 * 7 = 63\t9 * 8 = 72\t9 * 9 = 81\t\n"
          ],
          "name": "stdout"
        }
      ]
    },
    {
      "cell_type": "code",
      "metadata": {
        "colab": {
          "base_uri": "https://localhost:8080/"
        },
        "id": "nqavdlmVnpi2",
        "outputId": "dec27ac4-fded-4c11-a05b-05b62d95e449"
      },
      "source": [
        "#구구단 세로출력\n",
        "for i in range(1,10):\n",
        "    for j in range(2,10):#i,j값의 위치만 바꾸어주면 됨\n",
        "        print(f'{j} * {i} = {i * j}',end='\\t')\n",
        "    print()"
      ],
      "execution_count": null,
      "outputs": [
        {
          "output_type": "stream",
          "text": [
            "2 * 1 = 2\t3 * 1 = 3\t4 * 1 = 4\t5 * 1 = 5\t6 * 1 = 6\t7 * 1 = 7\t8 * 1 = 8\t9 * 1 = 9\t\n",
            "2 * 2 = 4\t3 * 2 = 6\t4 * 2 = 8\t5 * 2 = 10\t6 * 2 = 12\t7 * 2 = 14\t8 * 2 = 16\t9 * 2 = 18\t\n",
            "2 * 3 = 6\t3 * 3 = 9\t4 * 3 = 12\t5 * 3 = 15\t6 * 3 = 18\t7 * 3 = 21\t8 * 3 = 24\t9 * 3 = 27\t\n",
            "2 * 4 = 8\t3 * 4 = 12\t4 * 4 = 16\t5 * 4 = 20\t6 * 4 = 24\t7 * 4 = 28\t8 * 4 = 32\t9 * 4 = 36\t\n",
            "2 * 5 = 10\t3 * 5 = 15\t4 * 5 = 20\t5 * 5 = 25\t6 * 5 = 30\t7 * 5 = 35\t8 * 5 = 40\t9 * 5 = 45\t\n",
            "2 * 6 = 12\t3 * 6 = 18\t4 * 6 = 24\t5 * 6 = 30\t6 * 6 = 36\t7 * 6 = 42\t8 * 6 = 48\t9 * 6 = 54\t\n",
            "2 * 7 = 14\t3 * 7 = 21\t4 * 7 = 28\t5 * 7 = 35\t6 * 7 = 42\t7 * 7 = 49\t8 * 7 = 56\t9 * 7 = 63\t\n",
            "2 * 8 = 16\t3 * 8 = 24\t4 * 8 = 32\t5 * 8 = 40\t6 * 8 = 48\t7 * 8 = 56\t8 * 8 = 64\t9 * 8 = 72\t\n",
            "2 * 9 = 18\t3 * 9 = 27\t4 * 9 = 36\t5 * 9 = 45\t6 * 9 = 54\t7 * 9 = 63\t8 * 9 = 72\t9 * 9 = 81\t\n"
          ],
          "name": "stdout"
        }
      ]
    },
    {
      "cell_type": "code",
      "metadata": {
        "colab": {
          "base_uri": "https://localhost:8080/"
        },
        "id": "vCZoxdBFoNR1",
        "outputId": "2c24ac35-0ca8-4e29-b800-7c696c810f9b"
      },
      "source": [
        "#문장에서 헤당 문자를 찾으면 반복을 종료 한다\n",
        "t = 'I have a dream'\n",
        "letter =input('찾을 문자:')\n",
        "for i in t:\n",
        "    print(i,end=\" \")\n",
        "    if i == letter:\n",
        "        break"
      ],
      "execution_count": null,
      "outputs": [
        {
          "output_type": "stream",
          "text": [
            "찾을 문자:d\n",
            "I   h a v e   a   d "
          ],
          "name": "stdout"
        }
      ]
    },
    {
      "cell_type": "code",
      "metadata": {
        "colab": {
          "base_uri": "https://localhost:8080/"
        },
        "id": "hcxg8Zxkpilx",
        "outputId": "c2ebebc6-1319-42b7-f380-4cd41809060e"
      },
      "source": [
        "#1~100사이의 정답숫자를 랜덤으로 하나 정하고 정답숫자를 맞출때까지 숫자를 입력하는 게임이다.\n",
        "#내가 입력한 숫자가 정답보다 작으면 'down', 크면 'up'을 출력하고 숫자를 다시 입력받는다.\n",
        "#정답을 맞추면 '정답!'이라고 출력하고 게임을 끝낸다.\n",
        "\n",
        "import random\n",
        "r_answer = random.randint(1,100)\n",
        "while r_answer != answer:\n",
        "    answer = int(input('예상숫자: '))\n",
        "    if answer > r_answer:\n",
        "        print('DOWN')\n",
        "    elif answer < r_answer:\n",
        "        print('UP')\n",
        "    else:\n",
        "        print('정답!')"
      ],
      "execution_count": null,
      "outputs": [
        {
          "output_type": "stream",
          "text": [
            "예상숫자: 5\n",
            "UP\n",
            "예상숫자: 2\n",
            "UP\n",
            "예상숫자: 10\n",
            "UP\n",
            "예상숫자: 20\n",
            "DOWN\n",
            "예상숫자: 19\n",
            "정답!\n"
          ],
          "name": "stdout"
        }
      ]
    },
    {
      "cell_type": "code",
      "metadata": {
        "id": "GYfKjv9Uuf36"
      },
      "source": [
        "import random\n",
        "r_answer = random.randint(1,100)\n",
        "answer = 0\n",
        "while r_answer != answer:\n",
        "    answer = int(input('예상숫자: '))\n",
        "    if answer > r_answer:\n",
        "        print('DOWN')\n",
        "    elif answer < r_answer:\n",
        "        print('UP')\n",
        "    else:\n",
        "        print('정답!')"
      ],
      "execution_count": null,
      "outputs": []
    },
    {
      "cell_type": "code",
      "metadata": {
        "colab": {
          "base_uri": "https://localhost:8080/"
        },
        "id": "lkBC2VBXu-LZ",
        "outputId": "096bf5c9-cc4f-465c-9490-cccd35a09f57"
      },
      "source": [
        "import random\n",
        "r_answer = random.randint(1,100)\n",
        "#answer = 0,어차피 한번은 돌아가니까 필요가없다...\n",
        "while True :\n",
        "    answer = int(input('예상숫자: '))\n",
        "    if answer > r_answer:\n",
        "        print('DOWN')\n",
        "    elif answer < r_answer:\n",
        "        print('UP')\n",
        "    else:\n",
        "        print('정답!')\n",
        "        break"
      ],
      "execution_count": null,
      "outputs": [
        {
          "output_type": "stream",
          "text": [
            "예상숫자: 20\n",
            "UP\n",
            "예상숫자: 30\n",
            "DOWN\n",
            "예상숫자: 28\n",
            "DOWN\n",
            "예상숫자: 27\n",
            "DOWN\n",
            "예상숫자: 25\n",
            "DOWN\n",
            "예상숫자: 24\n",
            "정답!\n"
          ],
          "name": "stdout"
        }
      ]
    },
    {
      "cell_type": "markdown",
      "metadata": {
        "id": "g_Y8GUarrqzO"
      },
      "source": [
        ""
      ]
    }
  ]
}